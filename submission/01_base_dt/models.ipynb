{
 "cells": [
  {
   "cell_type": "code",
   "execution_count": 2,
   "metadata": {},
   "outputs": [],
   "source": [
    "# Add os command to import this directory\n",
    "import os\n",
    "os.chdir('/Users/xyz-ai/Developer/python3-code/kaggle-titanic/submission/01_base_dt')"
   ]
  },
  {
   "cell_type": "code",
   "execution_count": 3,
   "metadata": {},
   "outputs": [],
   "source": [
    "from feature_engineering import (\n",
    "    FareByPclassImputer, AgeByClassSexImputer, FamilySizeAdder,\n",
    "    TicketFeatureAdder, CabinDeckExtractor\n",
    ")"
   ]
  },
  {
   "cell_type": "code",
   "execution_count": 4,
   "metadata": {},
   "outputs": [],
   "source": [
    "from sklearn.pipeline import Pipeline\n",
    "from sklearn.compose import ColumnTransformer\n",
    "from sklearn.preprocessing import OneHotEncoder, StandardScaler\n",
    "\n",
    "# Feature Engineering Pipeline\n",
    "feature_engineering_pipeline = Pipeline([\n",
    "    ('fare_imputer', FareByPclassImputer()),\n",
    "    ('age_imputer', AgeByClassSexImputer()),\n",
    "    ('family_size_adder', FamilySizeAdder(add_family_size_category=True)),\n",
    "    ('ticket_feature_adder', TicketFeatureAdder()),\n",
    "    ('cabin_deck_extractor', CabinDeckExtractor())\n",
    "])\n",
    "\n",
    "# Define columns to transform\n",
    "categorical_features = ['Pclass', 'Sex', 'Embarked',\n",
    "                        'TicketPrefix', 'Deck', 'FamilySizeCategory']\n",
    "numerical_features = ['Fare', 'Age', 'FamilySize', 'TicketGroupSize']\n",
    "\n",
    "# Preprocessing Pipeline\n",
    "preprocessing_pipeline = ColumnTransformer([\n",
    "    ('cat', OneHotEncoder(handle_unknown='ignore'), categorical_features),\n",
    "    ('num', StandardScaler(), numerical_features)\n",
    "])\n",
    "\n",
    "# Final Titanic full preprocessor\n",
    "full_titanic_pipeline = Pipeline([\n",
    "    ('feature_engineering', feature_engineering_pipeline),\n",
    "    ('preprocessing', preprocessing_pipeline)\n",
    "])"
   ]
  },
  {
   "cell_type": "code",
   "execution_count": null,
   "metadata": {},
   "outputs": [],
   "source": [
    "from sklearn.svm import SVC\n",
    "from sklearn.tree import DecisionTreeClassifier\n",
    "from sklearn.ensemble import RandomForestClassifier\n",
    "from sklearn.linear_model import LogisticRegression\n",
    "from sklearn.dummy import DummyClassifier"
   ]
  },
  {
   "cell_type": "code",
   "execution_count": null,
   "metadata": {},
   "outputs": [],
   "source": [
    "# Full ML pipeline: preprocessing + model\n",
    "final_pipeline = Pipeline([\n",
    "    ('full_preprocessing', full_titanic_pipeline),\n",
    "    # Placeholder — model will be set by GridSearchCV\n",
    "    ('classifier', DummyClassifier())\n",
    "])"
   ]
  },
  {
   "cell_type": "code",
   "execution_count": null,
   "metadata": {},
   "outputs": [],
   "source": [
    "from sklearn.model_selection import GridSearchCV\n",
    "\n",
    "# Define hyperparameter space\n",
    "param_grid = [\n",
    "    {\n",
    "        'classifier': [SVC(probability=True, random_state=42)],\n",
    "        'classifier__kernel': ['rbf', 'linear'],\n",
    "        'classifier__C': [0.1, 1, 10],\n",
    "        'classifier__gamma': ['scale', 'auto']\n",
    "    },\n",
    "    {\n",
    "        'classifier': [DecisionTreeClassifier(random_state=42)],\n",
    "        'classifier__max_depth': [3, 5, 7, None],\n",
    "        'classifier__min_samples_split': [2, 5, 10]\n",
    "    },\n",
    "    {\n",
    "        'classifier': [RandomForestClassifier(random_state=42)],\n",
    "        'classifier__n_estimators': [100, 200],\n",
    "        'classifier__max_depth': [5, 10, None],\n",
    "        'classifier__min_samples_split': [2, 5]\n",
    "    },\n",
    "    {\n",
    "        'classifier': [LogisticRegression(max_iter=500, random_state=42)],\n",
    "        'classifier__C': [0.01, 0.1, 1, 10],\n",
    "        'classifier__solver': ['liblinear', 'lbfgs']\n",
    "    }\n",
    "]"
   ]
  },
  {
   "cell_type": "code",
   "execution_count": null,
   "metadata": {},
   "outputs": [],
   "source": [
    "# GridSearchCV\n",
    "grid_search = GridSearchCV(\n",
    "    final_pipeline,\n",
    "    param_grid,\n",
    "    cv=5,\n",
    "    scoring='accuracy',\n",
    "    verbose=2,\n",
    "    n_jobs=-1  # Use all cores\n",
    ")"
   ]
  }
 ],
 "metadata": {
  "kernelspec": {
   "display_name": ".venv",
   "language": "python",
   "name": "python3"
  },
  "language_info": {
   "codemirror_mode": {
    "name": "ipython",
    "version": 3
   },
   "file_extension": ".py",
   "mimetype": "text/x-python",
   "name": "python",
   "nbconvert_exporter": "python",
   "pygments_lexer": "ipython3",
   "version": "3.13.3"
  }
 },
 "nbformat": 4,
 "nbformat_minor": 2
}
