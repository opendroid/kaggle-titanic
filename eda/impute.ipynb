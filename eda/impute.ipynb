{
 "cells": [
  {
   "cell_type": "markdown",
   "metadata": {},
   "source": [
    "## EDA (Exploratory Data Analysis)\n",
    "\n",
    "There are three main data files:\n",
    " - gender_submission.csv (Results to be evaluated)\n",
    " - test.csv\n",
    " - dataset.csv\n",
    "\n",
    "The output of this is saved in `../data/eda_step1.csv`\n",
    "### Imputation\n",
    "\n",
    "__Missing data:__ This needs imputation. We shall talk about strategies for these differently.\n",
    "\n",
    " | Feature | Training missing | Test missing |\n",
    " | -- | -- | --|\n",
    " | Age | 177 or 20% | 86 or 20.5% | \n",
    " | Cabin | 687 or 77% | 327 or 78% |\n",
    " | Fare | 15 or 1.6% | 2 or 0.47 % |\n",
    " | Embarked | 2 or 0.2% | 0 |\n",
    "\n",
    "\n",
    "#### Fare\n",
    "It has only 15 places where the value is 0.0. Initial plan is to replace it by median of the `Pclass`. It is reasonable.\n",
    "\n",
    "\n",
    "#### Age\n",
    "The age is missing in 177 or (20% of samples). Initial plan is to impute it by median of `Pclass`, `Sex`.\n",
    "\n",
    "| Pclass | Male (median-age) | Female (Median-age) |\n",
    "|--|--|--|\n",
    "| 1 | 40.0 | 35.0 |\n",
    "| 2 | 30.0 | 28.0 |\n",
    "| 3 | 25.0 | 21.5 |\n",
    "\n",
    "\n",
    "#### Cabin\n",
    "It has most amount of missing data. 687 out of 891 (77%) training samples. It is used to extract the `Deck` information from it. It is dropped after that.\n",
    "\n",
    "For the missing data the `Deck` is imputed by a class `DecisionTreeClassifier`. We should be able to infer this from `Pclass` and `Fare` column. \n",
    "\n",
    "#### Embarked\n",
    " \n",
    "### Feature Engineering:\n",
    "\n",
    "We have these features:\n",
    "1. Categorical:\n",
    "    - 'Pclass': Passenger class 1 2 or 3\n",
    "    - 'Sex': male or female\n",
    "    - 'Embarked': Port of Embarkation\tC = Cherbourg, Q = Queenstown, S = Southampton\n",
    "    - Added: Reasoning below.\n",
    "       - 'TicketPrefix': Extracted from 'Ticket'\n",
    "       - 'Deck': Extracted from 'Ticket'\n",
    "       - 'FamilySizeCategory': Extracted from 'Name' => Lastname\n",
    "       - 'Title': Extracted from 'Name'\n",
    "    - Removed: \n",
    "       - 'Name': Surname, Title Firstname (Braund, Mr. Owen Harris or Masselmani, Mrs. Fatima)\n",
    "       - 'Ticket': Ticket Number in format category-number. Groups may have same ticket number\n",
    "       - 'Cabin': The lodging room number. In format deck-number\n",
    "       - 'PassengerId': to be removed\n",
    "2. Numberic:\n",
    "    - 'Age': Numeric\n",
    "    - 'Fare': Ticket price\n",
    "    - Added: Reasoning below.\n",
    "       - 'FamilySize' = SibSp + Parch\n",
    "       - 'TicketGroupSize'\n",
    "       - 'SurnameGroupSize'\n",
    "    - Removed:\n",
    "       - 'SibSp': Siblings or spoucses onboard \n",
    "       - 'Parch': parents or children aboard\n",
    "\n",
    "Looked at the features like `Cabin, Name, Ticket` to extract meaningful features. In future we can also look at converting `Fare` to a class like `Low, Medium or High` to avoid some outliers. \n",
    "\n",
    "#### `Cabin` feature\n",
    "The cabin feature is interesting. It features the cabin number in for $D{n}$ where n is a number and $D$ is the deck. Once imputed we can extract a feature called `Deck` from it and remove this column from training set. The `Deck` can then be OHE (One Hot Encoded)\n",
    "\n",
    "### `Name` feature\n",
    "The `Name` encodes the information in a interesting way. Its contains:\n",
    " - Title: as one of `\"Mrs|Mr|Miss|Master|Don|Rev|Dr|Mme|Ms|Major|Capt|Col|Countess\"`. We add `other` in two cases where it is not available. Mind the order of `Mrs|Mr` left to right.\n",
    " - Surname: extract sirname as first word in name. Can provide insight into families togetehr.\n",
    " - SurnameGroupSize: We can then create a column with group size by last name. For example how many 'Smiths' or 'Johns' travelling together.\n",
    "\n",
    "\n",
    "| Title | Count |\n",
    "|--|--|\n",
    "| Mr | 511 |\n",
    "| Miss | 180 |\n",
    "| Mrs | 125 |\n",
    "|  Master | 40 |\n",
    "|  Dr, Col | 10 |\n",
    "|  Rev | 6 |\n",
    "| Major, Other | 2 |\n",
    "|  Don, Mme, Ms, Capt, Countess | 1 |\n",
    "\n",
    "\n",
    "The surname histogram. Means that 534 are single sir-name, 83 groups of 2 share sirname, 28 groups of 3 share sirname.\n",
    "\n",
    "\n",
    " | Sirname Group Size |\tCount |\n",
    " |--| --|\n",
    " | 1\t| 534 |\n",
    " | 2\t| 166 |\n",
    " | 3\t| 84 |\n",
    " | 4\t| 56 |\n",
    " | 5\t| 30 |\n",
    " | 6\t| 9 |\n",
    " | 7\t| 7 |\n",
    " | 9    | 5 |\n",
    "\n",
    "\n",
    "### `Ticket` feature\n",
    "The `Ticket` feature has interesting data. It's format is `prefix+number`. The model can learn from prefix.\n",
    " - TicketPrefix: Extract this feature\n",
    " - TicketGroupSize: Same ticket is used by a group. \n",
    "\n",
    " | TicketGroupSize | Count | \n",
    " |--|--|\n",
    " | 1 | \t547 |\n",
    " | 2 | \t94 |\n",
    " | 3 | \t21 |\n",
    " | 4 | \t11 |\n",
    " | 5 | \t2 |\n",
    " | 6 | \t3 |\n",
    " | 7 | \t3 |\n"
   ]
  },
  {
   "cell_type": "code",
   "execution_count": 1,
   "metadata": {},
   "outputs": [],
   "source": [
    "import pandas as pd\n",
    "import matplotlib.pyplot as plt\n",
    "import seaborn as sns"
   ]
  },
  {
   "cell_type": "code",
   "execution_count": null,
   "metadata": {},
   "outputs": [],
   "source": [
    "dataset = pd.read_csv('../data/train.csv')\n",
    "submit = pd.read_csv('../data/test.csv')\n",
    "len(dataset), len(submit)"
   ]
  },
  {
   "cell_type": "code",
   "execution_count": null,
   "metadata": {},
   "outputs": [],
   "source": [
    "# Print the columns\n",
    "# SibSp: of siblings / spouses aboard the Titanic\n",
    "# Parch: of parents / children aboard the Titanic\n",
    "print(dataset.columns)"
   ]
  },
  {
   "cell_type": "code",
   "execution_count": null,
   "metadata": {},
   "outputs": [],
   "source": [
    "dataset.describe()"
   ]
  },
  {
   "cell_type": "markdown",
   "metadata": {},
   "source": [
    "# Missing Data\n",
    "\n",
    "Let us look at the count of missing data in each column for both testing and training set."
   ]
  },
  {
   "cell_type": "code",
   "execution_count": 5,
   "metadata": {},
   "outputs": [],
   "source": [
    "def print_missing_data(data):\n",
    "    null_counts = data.isnull().sum()\n",
    "    # Print the missing data count and percentage\n",
    "    null_counts = data.isnull().sum()\n",
    "    # Set 'Fare' to count of zeros\n",
    "    null_counts['Fare'] = data[data['Fare'] == 0].shape[0]\n",
    "    null_counts_percentage = null_counts / len(data) * 100\n",
    "    # Print the missing data count and percentage\n",
    "    # Combine the counts and percentages into a single DataFrame\n",
    "    missing_data = pd.DataFrame({\n",
    "        'count': null_counts,\n",
    "        'percentage': null_counts_percentage\n",
    "    })\n",
    "\n",
    "    # Print the combined DataFrame, ignore the count of zeros\n",
    "    print(missing_data[missing_data['count'] != 0])"
   ]
  },
  {
   "cell_type": "code",
   "execution_count": null,
   "metadata": {},
   "outputs": [],
   "source": [
    "print_missing_data(dataset)"
   ]
  },
  {
   "cell_type": "code",
   "execution_count": null,
   "metadata": {},
   "outputs": [],
   "source": [
    "print_missing_data(submit)"
   ]
  },
  {
   "cell_type": "markdown",
   "metadata": {},
   "source": [
    "## Missing Data: Age\n",
    "\n",
    "Look at the missing age data by Sex and class."
   ]
  },
  {
   "cell_type": "code",
   "execution_count": 8,
   "metadata": {},
   "outputs": [],
   "source": [
    "def print_missing_age(data):\n",
    "    # Missing \"Age\" by \"Sex\", \"Pclass\", \"Embarked\" counts\n",
    "    age_missing = []\n",
    "    male_missing_age = data[data['Sex'] == 'male']['Age'].isnull().sum()\n",
    "    female_missing_age = data[data['Sex'] == 'female']['Age'].isnull().sum()\n",
    "\n",
    "    for pclass in [1, 2, 3]:\n",
    "        class_count = data[data['Pclass'] == pclass]['Age'].isnull().sum()\n",
    "        male_count = data[(data['Pclass'] == pclass) & (\n",
    "            data['Sex'] == 'male')]['Age'].isnull().sum()\n",
    "        female_count = data[(data['Pclass'] == pclass) & (\n",
    "            data['Sex'] == 'female')]['Age'].isnull().sum()\n",
    "        male_median = data[(data['Pclass'] == pclass) & (\n",
    "            data['Sex'] == 'male')]['Age'].median()\n",
    "        female_median = data[(data['Pclass'] == pclass) & (\n",
    "            data['Sex'] == 'female')]['Age'].median()\n",
    "        age_missing.append((pclass, class_count, male_count, female_count, male_median, female_median))\n",
    "\n",
    "\n",
    "    # median and mean of Age by Sex, Pclass, Embarked\n",
    "    male_median_age = data[data['Sex'] == 'male']['Age'].median()\n",
    "    female_median_age = data[data['Sex'] == 'female']['Age'].median()\n",
    "\n",
    "    missing_age_embarked = []\n",
    "    for embarked in ['S', 'C', 'Q']:\n",
    "        missing_age_embarked.append(\n",
    "            data[data['Embarked'] == embarked]['Age'].isnull().sum())\n",
    "\n",
    "\n",
    "    print(\"Missing age counts:\")\n",
    "    print(\n",
    "        f\"         male {male_missing_age} ({male_median_age}), female {female_missing_age} ({female_median_age})\")\n",
    "    print(\n",
    "        f\"class 1: male {age_missing[0][2]} ({age_missing[0][4]}), female {age_missing[0][3]} ({age_missing[0][5]})\")\n",
    "    print(\n",
    "        f\"class 2: male {age_missing[1][2]} ({age_missing[1][4]}), female {age_missing[1][3]} ({age_missing[1][5]})\")\n",
    "    print(\n",
    "        f\"class 3: male {age_missing[2][2]} ({age_missing[2][4]}), female {age_missing[2][2]} ({age_missing[2][5]})\")\n",
    "    print(\n",
    "        f\"embarked at S: {missing_age_embarked[0]}, C: {missing_age_embarked[1]}, Q: {missing_age_embarked[2]}\")"
   ]
  },
  {
   "cell_type": "code",
   "execution_count": null,
   "metadata": {},
   "outputs": [],
   "source": [
    "print_missing_age(dataset)"
   ]
  },
  {
   "cell_type": "code",
   "execution_count": null,
   "metadata": {},
   "outputs": [],
   "source": [
    "print_missing_age(submit)"
   ]
  },
  {
   "cell_type": "markdown",
   "metadata": {},
   "source": [
    "## Missing Data: Cabin\n"
   ]
  },
  {
   "cell_type": "code",
   "execution_count": 11,
   "metadata": {},
   "outputs": [],
   "source": [
    "def print_missing_cabin(data):\n",
    "    cabin_missing_data = data['Cabin'].isnull().sum()\n",
    "    cabin_missing_data_percentage = (\n",
    "        cabin_missing_data / len(data['Cabin'])) * 100\n",
    "    print(\n",
    "        f\"Cabin missing: {cabin_missing_data} = {cabin_missing_data_percentage:.2f}%\")\n",
    "    # Missing by class\n",
    "    cabin_missing_class_1 = data[data['Pclass']\n",
    "                                    == 1]['Cabin'].isnull().sum()\n",
    "    class1_cabins = data[data['Pclass'] == 1]['Pclass'].count()\n",
    "    cabin_missing_class_1_percentage = (\n",
    "        cabin_missing_class_1 / class1_cabins) * 100\n",
    "    cabin_missing_class_2 = data[data['Pclass']\n",
    "                                 == 2]['Cabin'].isnull().sum()\n",
    "    class2_cabins = data[data['Pclass'] == 2]['Pclass'].count()\n",
    "    cabin_missing_class_2_percentage = (\n",
    "        cabin_missing_class_2 / class2_cabins) * 100\n",
    "    cabin_missing_class_3 = data[data['Pclass']\n",
    "                                 == 3]['Cabin'].isnull().sum()\n",
    "    class3_cabins = data[data['Pclass'] == 3]['Pclass'].count()\n",
    "    cabin_missing_class_3_percentage = (\n",
    "        cabin_missing_class_3 / class3_cabins) * 100\n",
    "    print(\n",
    "        f\"class 1 missing:  {cabin_missing_class_1} / {class1_cabins} = {cabin_missing_class_1_percentage:.2f}%\")\n",
    "    print(\n",
    "        f\"class 2 missing: {cabin_missing_class_2} / {class2_cabins} = {cabin_missing_class_2_percentage:.2f}%\")\n",
    "    print(\n",
    "        f\"class 3 missing: {cabin_missing_class_3} / {class3_cabins} = {cabin_missing_class_3_percentage:.2f}%\")"
   ]
  },
  {
   "cell_type": "code",
   "execution_count": null,
   "metadata": {},
   "outputs": [],
   "source": [
    "print(\"Training dataset missing cabins:\")\n",
    "print_missing_cabin(dataset)"
   ]
  },
  {
   "cell_type": "code",
   "execution_count": null,
   "metadata": {},
   "outputs": [],
   "source": [
    "print(\"Submit dataset missing cabins:\")\n",
    "print_missing_cabin(submit)"
   ]
  },
  {
   "cell_type": "code",
   "execution_count": 14,
   "metadata": {},
   "outputs": [],
   "source": [
    "def print_missing_deck(data):\n",
    "    print(\"Missing Deck counts: \", end=\"\")\n",
    "    for deck, count in data[\"Deck\"].value_counts().items():\n",
    "        # Print deck name and count\n",
    "        print(f\"{deck}: {count}, \", end=\"\")"
   ]
  },
  {
   "cell_type": "code",
   "execution_count": 15,
   "metadata": {},
   "outputs": [],
   "source": [
    "# Add Deck column\n",
    "dataset[\"Deck\"] = dataset[\"Cabin\"].str[:1]"
   ]
  },
  {
   "cell_type": "code",
   "execution_count": null,
   "metadata": {},
   "outputs": [],
   "source": [
    "print_missing_deck(dataset)"
   ]
  },
  {
   "cell_type": "code",
   "execution_count": null,
   "metadata": {},
   "outputs": [],
   "source": [
    "submit[\"Deck\"] = submit[\"Cabin\"].str[:1]\n",
    "print_missing_deck(submit)"
   ]
  },
  {
   "cell_type": "code",
   "execution_count": null,
   "metadata": {},
   "outputs": [],
   "source": [
    "# MIssing number of decks by Pclass\n",
    "deck_by_pclass = dataset.groupby(['Pclass', 'Deck'])['Deck'].count().unstack()\n",
    "print(deck_by_pclass)"
   ]
  },
  {
   "cell_type": "markdown",
   "metadata": {},
   "source": [
    "## Missing Data: Fare\n",
    "\n",
    "Look at the fare distribution by class. We can also infer that:\n",
    "\n",
    "- Class 1 cabins: A, B, C and D\n",
    "- Class 2 cabins: D, E and F\n",
    "- Class 3 cabins: E, F and G\n",
    "\n",
    "So it is resonable to fill missing fare by class median"
   ]
  },
  {
   "cell_type": "code",
   "execution_count": 25,
   "metadata": {},
   "outputs": [],
   "source": [
    "def print_fare_stats(data):\n",
    "    # Print max, mean, median, std of Fare by Deck and Pclass\n",
    "    answer = data.groupby(['Deck', 'Pclass'])['Fare'].describe().unstack()\n",
    "    # Print count, min, max, mean, median, std of Fare from answer\n",
    "    for index, row in answer.iterrows():\n",
    "        class1_count = row['count'].iloc[0]\n",
    "        class1_min = row['min'].iloc[0]\n",
    "        class1_max = row['max'].iloc[0]\n",
    "        class1_mean = row['mean'].iloc[0]\n",
    "        class1_median = row['50%'].iloc[0]\n",
    "        class1_std = row['std'].iloc[0]\n",
    "        print(f\"Class 1: {index} ({class1_count:2.0f}:{class1_min:7.2f} to {class1_max:6.2f}), ({class1_mean:.2f}, {class1_median:.2f}, {class1_std:.2f})\")\n",
    "        class2_count = row['count'].iloc[1]\n",
    "        class2_min = row['min'].iloc[1]\n",
    "        class2_max = row['max'].iloc[1]\n",
    "        class2_mean = row['mean'].iloc[1]\n",
    "        class2_median = row['50%'].iloc[1]\n",
    "        class2_std = row['std'].iloc[1]\n",
    "        print(f\"Class 2: {index} ({class2_count:2.0f}:{class2_min:7.2f} to {class2_max:6.2f}), ({class2_mean:.2f}, {class2_median:.2f}, {class2_std:.2f})\")\n",
    "        class3_count = row['count'].iloc[2]\n",
    "        class3_min = row['min'].iloc[2]\n",
    "        class3_max = row['max'].iloc[2]\n",
    "        class3_mean = row['mean'].iloc[2]\n",
    "        class3_median = row['50%'].iloc[2]\n",
    "        class3_std = row['std'].iloc[2]\n",
    "        print(f\"Class 3: {index} ({class3_count:2.0f}:{class3_min:7.2f} to {class3_max:6.2f}), ({class3_mean:.2f}, {class3_median:.2f}, {class3_std:.2f})\")"
   ]
  },
  {
   "cell_type": "code",
   "execution_count": null,
   "metadata": {},
   "outputs": [],
   "source": [
    "print_fare_stats(dataset)"
   ]
  },
  {
   "cell_type": "code",
   "execution_count": null,
   "metadata": {},
   "outputs": [],
   "source": [
    "print_fare_stats(submit)"
   ]
  },
  {
   "cell_type": "markdown",
   "metadata": {},
   "source": [
    "# Understanding Features Classes\n",
    "\n",
    "Look into Names. Extract the `Title` and `Sirname`"
   ]
  },
  {
   "cell_type": "code",
   "execution_count": null,
   "metadata": {},
   "outputs": [],
   "source": [
    "title_pattern = r\"(Mrs|Mr|Miss|Master|Don|Rev|Dr|Mme|Ms|Major|Capt|Col|Countess)\"\n",
    "# Extract title from name\n",
    "dataset[\"Title\"] = dataset[\"Name\"].str.extract(title_pattern).fillna(\"Other\")\n",
    "submit[\"Title\"] = submit[\"Name\"].str.extract(title_pattern).fillna(\"Other\")\n",
    "\n",
    "def print_title_counts(data):\n",
    "    for title, count in data[\"Title\"].value_counts().items():\n",
    "        print(f\"{title}: {count}, \", end=\"\")\n",
    "    print()\n",
    "print_title_counts(dataset)\n",
    "print_title_counts(submit)\n"
   ]
  },
  {
   "cell_type": "code",
   "execution_count": 21,
   "metadata": {},
   "outputs": [],
   "source": [
    "# Surname\n",
    "dataset[\"Surname\"] = dataset[\"Name\"].apply(lambda x: x.split(\",\")[0])\n",
    "# Show how many people does a person share a surname with.\n",
    "surname_counts = dataset[\"Surname\"].value_counts()\n",
    "dataset['SurnameGroupSize'] = dataset['Surname'].map(surname_counts).fillna(1)"
   ]
  },
  {
   "cell_type": "code",
   "execution_count": 22,
   "metadata": {},
   "outputs": [],
   "source": [
    "def plot_histogram(data, bins=10):\n",
    "    counts, bins, _ = plt.hist(data, bins=bins)\n",
    "    for i in range(len(counts)):\n",
    "        plt.text(bins[i] + (bins[i+1] - bins[i]) / 2, counts[i], int(counts[i]), ha='center', va='bottom')\n",
    "    plt.grid(True)\n",
    "    plt.show()"
   ]
  },
  {
   "cell_type": "code",
   "execution_count": null,
   "metadata": {},
   "outputs": [],
   "source": [
    "plot_histogram(dataset['SurnameGroupSize'], bins=10)"
   ]
  },
  {
   "cell_type": "code",
   "execution_count": 24,
   "metadata": {},
   "outputs": [],
   "source": [
    "dataset.to_csv('../data/eda_step1.csv', index=False)"
   ]
  }
 ],
 "metadata": {
  "kernelspec": {
   "display_name": ".venv",
   "language": "python",
   "name": "python3"
  },
  "language_info": {
   "codemirror_mode": {
    "name": "ipython",
    "version": 3
   },
   "file_extension": ".py",
   "mimetype": "text/x-python",
   "name": "python",
   "nbconvert_exporter": "python",
   "pygments_lexer": "ipython3",
   "version": "3.13.3"
  }
 },
 "nbformat": 4,
 "nbformat_minor": 2
}
